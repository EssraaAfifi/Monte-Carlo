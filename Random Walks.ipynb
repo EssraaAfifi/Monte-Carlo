{
 "cells": [
  {
   "cell_type": "code",
   "execution_count": 5,
   "id": "263f7b3b",
   "metadata": {},
   "outputs": [
    {
     "name": "stdout",
     "output_type": "stream",
     "text": [
      "walk size = 1  / % of no transport = 100.0\n",
      "walk size = 2  / % of no transport = 100.0\n",
      "walk size = 3  / % of no transport = 100.0\n",
      "walk size = 4  / % of no transport = 100.0\n",
      "walk size = 5  / % of no transport = 87.92\n",
      "walk size = 6  / % of no transport = 93.89999999999999\n",
      "walk size = 7  / % of no transport = 76.27000000000001\n",
      "walk size = 8  / % of no transport = 86.09\n",
      "walk size = 9  / % of no transport = 66.75999999999999\n",
      "walk size = 10  / % of no transport = 79.61\n",
      "walk size = 11  / % of no transport = 60.0\n",
      "walk size = 12  / % of no transport = 72.97\n",
      "walk size = 13  / % of no transport = 54.269999999999996\n",
      "walk size = 14  / % of no transport = 67.44\n",
      "walk size = 15  / % of no transport = 48.19\n",
      "walk size = 16  / % of no transport = 62.81\n",
      "walk size = 17  / % of no transport = 44.32\n",
      "walk size = 18  / % of no transport = 58.52\n",
      "walk size = 19  / % of no transport = 40.64\n",
      "walk size = 20  / % of no transport = 55.08\n",
      "walk size = 21  / % of no transport = 38.17\n",
      "walk size = 22  / % of no transport = 50.63999999999999\n",
      "walk size = 23  / % of no transport = 34.88\n",
      "walk size = 24  / % of no transport = 47.25\n",
      "walk size = 25  / % of no transport = 32.43\n",
      "walk size = 26  / % of no transport = 45.18\n",
      "walk size = 27  / % of no transport = 30.570000000000004\n",
      "walk size = 28  / % of no transport = 43.21\n",
      "walk size = 29  / % of no transport = 28.54\n",
      "walk size = 30  / % of no transport = 40.42\n"
     ]
    }
   ],
   "source": [
    "\"\"\"\n",
    "Question to answer:\n",
    "\n",
    "What is the lonngest random walk you can take\n",
    "so that on average you will end up 4 blocks or\n",
    "fewer from home?\n",
    "\"\"\"\n",
    "\n",
    "import random as rnd\n",
    "\n",
    "def random_walk(n):\n",
    "    \"\"\"Return coordinates after 'n' block random walk.\"\"\"\n",
    "    \n",
    "    x, y = 0, 0\n",
    "    \n",
    "    for i in range(n):\n",
    "        (dx, dy) = rnd.choice([(0,1), (0,-1), (1,0), (-1,0)])\n",
    "        x += dx\n",
    "        y += dy\n",
    "    return (x, y)\n",
    "   \n",
    "#-----\n",
    "\n",
    "number_of_walks = 10000\n",
    "\n",
    "for walk_length in range (1, 31):\n",
    "    no_transport = 0  # Number of walks 4 or fewer blocks from home\n",
    "    \n",
    "    for i in range(number_of_walks):\n",
    "        (x, y) = random_walk(walk_length)\n",
    "        distance = abs(x) + abs(y)\n",
    "        \n",
    "        if distance <= 4:\n",
    "            no_transport += 1\n",
    "    \n",
    "    no_transport_percentage = float(no_transport) / number_of_walks\n",
    "    \n",
    "    \n",
    "    print (\"walk size =\", walk_length,\n",
    "          \" / % of no transport =\", 100*no_transport_percentage)"
   ]
  },
  {
   "cell_type": "code",
   "execution_count": null,
   "id": "2e092435",
   "metadata": {},
   "outputs": [],
   "source": []
  }
 ],
 "metadata": {
  "kernelspec": {
   "display_name": "Python 3 (ipykernel)",
   "language": "python",
   "name": "python3"
  },
  "language_info": {
   "codemirror_mode": {
    "name": "ipython",
    "version": 3
   },
   "file_extension": ".py",
   "mimetype": "text/x-python",
   "name": "python",
   "nbconvert_exporter": "python",
   "pygments_lexer": "ipython3",
   "version": "3.9.7"
  }
 },
 "nbformat": 4,
 "nbformat_minor": 5
}
